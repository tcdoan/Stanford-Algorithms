{
 "cells": [
  {
   "cell_type": "code",
   "execution_count": 3,
   "metadata": {},
   "outputs": [],
   "source": [
    "# Notebook to solve Traveling Salesperson Problem\n",
    "# Adapted from http://nbviewer.jupyter.org/url/norvig.com/ipython/TSP.ipynb\n",
    "\n",
    "%matplotlib inline\n",
    "import matplotlib.pyplot as plt\n",
    "import random\n",
    "import time\n",
    "import itertools\n",
    "import urllib\n",
    "import csv\n",
    "import functools\n",
    "from statistics import mean, stdev"
   ]
  },
  {
   "cell_type": "code",
   "execution_count": 136,
   "metadata": {},
   "outputs": [],
   "source": [
    "def alltours_tsp(cities):\n",
    "    return shortest_tour(alltours(cities))\n",
    "\n",
    "def shortest_tour(tours):\n",
    "    return min(tours, key=tour_length)\n",
    "\n",
    "alltours = itertools.permutations "
   ]
  },
  {
   "cell_type": "code",
   "execution_count": 137,
   "metadata": {},
   "outputs": [],
   "source": [
    "def tour_length(tour):\n",
    "    return sum(distance(tour[i], tour[i-1]) for i in range(len(tour)))"
   ]
  },
  {
   "cell_type": "code",
   "execution_count": 138,
   "metadata": {},
   "outputs": [],
   "source": [
    "from math import sqrt\n",
    "class Point:\n",
    "    def __init__(self, num, x, y):\n",
    "        self.x = x\n",
    "        self.y = y\n",
    "        self.num = num\n",
    "        \n",
    "    def __str__(self):\n",
    "        return \"({}, {:.4f}, {:.4f})\".format(self.num, self.x, self.y)\n",
    "    \n",
    "City = Point\n",
    "\n",
    "\n",
    "def distance(A, B):\n",
    "    return sqrt((A.x-B.x)**2 + (A.y-B.y)**2)"
   ]
  },
  {
   "cell_type": "code",
   "execution_count": 139,
   "metadata": {},
   "outputs": [],
   "source": [
    "def Cities (n, width=900, height=600, seed=42):\n",
    "    random.seed(seed*n)\n",
    "    return [City(c, random.randrange(width), random.randrange(height)) for c in range(n)]\n"
   ]
  },
  {
   "cell_type": "code",
   "execution_count": 141,
   "metadata": {},
   "outputs": [
    {
     "name": "stdout",
     "output_type": "stream",
     "text": [
      "(0, 795.0000, 16.0000)\n",
      "(1, 703.0000, 298.0000)\n",
      "(2, 553.0000, 149.0000)\n",
      "(3, 829.0000, 198.0000)\n",
      "(4, 346.0000, 286.0000)\n",
      "(5, 466.0000, 503.0000)\n"
     ]
    }
   ],
   "source": [
    "for c in Cities(6):\n",
    "    print(c)\n"
   ]
  },
  {
   "cell_type": "code",
   "execution_count": null,
   "metadata": {},
   "outputs": [],
   "source": []
  },
  {
   "cell_type": "code",
   "execution_count": 142,
   "metadata": {},
   "outputs": [],
   "source": [
    "def plot_tour(tour):\n",
    "    plot_lines(list(tour) + [tour[0]])\n",
    "\n",
    "def plot_lines(cities, style='bo-'):\n",
    "    plt.plot([c.x for c in cities], [c.y for c in cities], style)\n",
    "    plt.axis('scaled'); \n",
    "      "
   ]
  },
  {
   "cell_type": "code",
   "execution_count": 166,
   "metadata": {},
   "outputs": [
    {
     "data": {
      "image/png": "[encoded data removed]",
      "text/plain": [
       "<Figure size 432x288 with 1 Axes>"
      ]
     },
     "metadata": {},
     "output_type": "display_data"
    },
    {
     "name": "stdout",
     "output_type": "stream",
     "text": [
      "8 city tour with length 2509.3 in 0.311 secs for alltours_tsp\n"
     ]
    }
   ],
   "source": [
    "def plot_tsp(algo, cities):\n",
    "    t0 = time.clock()\n",
    "    tour = algo(cities)\n",
    "    t1 = time.clock()\n",
    "    assert valid_tour(tour, cities)\n",
    "    plot_tour(tour); plt.show()\n",
    "    print(\"{} city tour with length {:.1f} in {:.3f} secs for {}\".format(len(tour), tour_length(tour), t1 - t0, algo.__name__))\n",
    "    \n",
    "def valid_tour(tour, cities):\n",
    "    \"Is tour a valid tour for these cities?\"\n",
    "    return set(tour) == set(cities) and len(tour) == len(cities)\n",
    "\n",
    "plot_tsp(alltours_tsp, Cities(8))"
   ]
  },
  {
   "cell_type": "code",
   "execution_count": 167,
   "metadata": {},
   "outputs": [
    {
     "data": {
      "image/png": "[encoded data removed]",
      "text/plain": [
       "<Figure size 432x288 with 1 Axes>"
      ]
     },
     "metadata": {},
     "output_type": "display_data"
    },
    {
     "name": "stdout",
     "output_type": "stream",
     "text": [
      "10 city tour with length 2381.4 in 0.000 secs for nn_tsp\n"
     ]
    }
   ],
   "source": [
    "def nn_tsp(cities):\n",
    "    start = cities[0]\n",
    "    tour = [start]\n",
    "    untraveled = list(cities[1:])\n",
    "    while len(untraveled) > 0:\n",
    "        city = nearest(tour[-1], untraveled)\n",
    "        tour.append(city)\n",
    "        untraveled.remove(city)\n",
    "    return tour\n",
    "\n",
    "def nearest(A, cities):\n",
    "    return min(cities, key=lambda c: distance(A,c))\n",
    "\n",
    "# cities is a list\n",
    "plot_tsp(nn_tsp, Cities(10))"
   ]
  },
  {
   "cell_type": "code",
   "execution_count": 165,
   "metadata": {},
   "outputs": [],
   "source": [
    "def lines(textFile):\n",
    "    my_file=open(textFile,\"r\")\n",
    "    return my_file.readlines()   \n",
    "\n",
    "def city_map(lines, delimiter=' '):\n",
    "    return [City(int(row[0]), float(row[1]), float(row[2]))\n",
    "        for row in csv.reader(lines, delimiter=delimiter, skipinitialspace=True)]\n",
    "\n",
    "nn_cities = city_map(lines(\"nn.txt\"))\n"
   ]
  },
  {
   "cell_type": "code",
   "execution_count": 154,
   "metadata": {},
   "outputs": [
    {
     "name": "stdout",
     "output_type": "stream",
     "text": [
      "33708 city tour with length 1203406.5\n"
     ]
    }
   ],
   "source": [
    "tour = nn_tsp(nn_cities)\n",
    "print(\"{} city tour with length {:.1f}\".format(len(tour), tour_length(tour)))"
   ]
  }
 ],
 "metadata": {
  "kernelspec": {
   "display_name": "Python 3",
   "language": "python",
   "name": "python3"
  },
  "language_info": {
   "codemirror_mode": {
    "name": "ipython",
    "version": 3
   },
   "file_extension": ".py",
   "mimetype": "text/x-python",
   "name": "python",
   "nbconvert_exporter": "python",
   "pygments_lexer": "ipython3",
   "version": "3.6.5"
  }
 },
 "nbformat": 4,
 "nbformat_minor": 2
}
